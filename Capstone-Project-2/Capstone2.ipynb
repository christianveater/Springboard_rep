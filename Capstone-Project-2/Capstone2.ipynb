{
 "cells": [
  {
   "cell_type": "code",
   "execution_count": 504,
   "metadata": {},
   "outputs": [],
   "source": [
    "#Data collection\n",
    "#load python packages\n",
    "import os\n",
    "import pandas as pd\n",
    "import datetime\n",
    "import seaborn as sns\n",
    "import matplotlib.pyplot as plt\n",
    "import numpy as np\n",
    "%matplotlib inline"
   ]
  },
  {
   "cell_type": "code",
   "execution_count": 505,
   "metadata": {},
   "outputs": [
    {
     "data": {
      "text/plain": [
       "'C:\\\\Users\\\\chris\\\\Springboard_rep\\\\Capstone-Project-2'"
      ]
     },
     "execution_count": 505,
     "metadata": {},
     "output_type": "execute_result"
    }
   ],
   "source": [
    "os.getcwd()"
   ]
  },
  {
   "cell_type": "code",
   "execution_count": 506,
   "metadata": {},
   "outputs": [],
   "source": [
    "#loading the dataset of interest\n",
    "df = pd.read_csv('appstore_games.csv')\n",
    "#Drop columns URL, Name, Subtitle, Icon URL, Description, Delevoper and Primary Genre\n",
    "df.drop(['URL', 'Name', 'Subtitle', 'Icon URL', 'Description', 'Developer', 'Primary Genre'], axis=1, inplace=True)\n",
    "df.rename(columns = {'Average User Rating':'Rating', 'User Rating Count': 'Rating Count', 'In-app Purchases': 'InAppPurc',\n",
    "                     'Original Release Date': 'Org Rel Date', 'Current Version Release Date':'Cur Rel Date',\n",
    "                     'Languages':'Lang'}, inplace=True)"
   ]
  },
  {
   "cell_type": "code",
   "execution_count": 507,
   "metadata": {},
   "outputs": [
    {
     "name": "stdout",
     "output_type": "stream",
     "text": [
      "(17007, 11)\n"
     ]
    }
   ],
   "source": [
    "print(df.shape)"
   ]
  },
  {
   "cell_type": "code",
   "execution_count": 508,
   "metadata": {},
   "outputs": [
    {
     "name": "stdout",
     "output_type": "stream",
     "text": [
      "**Duplicated rows in the dataset**\n",
      "False    16847\n",
      "True       160\n",
      "Name: ID, dtype: int64\n",
      "(16847, 11)\n"
     ]
    }
   ],
   "source": [
    "#check for duplicates on ID and drop them\n",
    "df_sort = df.sort_values(by='ID')\n",
    "duplicateRowsDF = df_sort[df_sort['ID'].duplicated()]\n",
    "#Print out how many duplicates were spotted in the dataset\n",
    "print('**Duplicated rows in the dataset**')\n",
    "print(df_sort['ID'].duplicated().value_counts())\n",
    "#Drop duplicates \n",
    "df = df_sort.drop_duplicates()\n",
    "print(df.shape)"
   ]
  },
  {
   "cell_type": "code",
   "execution_count": 509,
   "metadata": {},
   "outputs": [
    {
     "name": "stdout",
     "output_type": "stream",
     "text": [
      "           ID  Rating  Rating Count  Price InAppPurc Age Rating  \\\n",
      "16  289217958     3.0         112.0    0.0      0.99         4+   \n",
      "15  289217958     3.0         112.0    0.0      0.99         4+   \n",
      "\n",
      "                  Lang         Size                  Genres Org Rel Date  \\\n",
      "16  EN, FR, DE, IT, ES  122826752.0  Games, Strategy, Board   31/08/2008   \n",
      "15  EN, FR, DE, IT, ES  122826752.0  Games, Strategy, Board   31/08/2008   \n",
      "\n",
      "   Cur Rel Date  \n",
      "16    6/04/2015  \n",
      "15    6/04/2015  \n"
     ]
    }
   ],
   "source": [
    "#testing to make sure duplicates were spotted\n",
    "test_ID = df_sort[df_sort['ID'] == 289217958]\n",
    "print(test_ID)"
   ]
  },
  {
   "cell_type": "code",
   "execution_count": 510,
   "metadata": {},
   "outputs": [
    {
     "name": "stderr",
     "output_type": "stream",
     "text": [
      "C:\\Users\\chris\\anaconda3\\lib\\site-packages\\pandas\\core\\generic.py:6245: SettingWithCopyWarning: \n",
      "A value is trying to be set on a copy of a slice from a DataFrame\n",
      "\n",
      "See the caveats in the documentation: https://pandas.pydata.org/pandas-docs/stable/user_guide/indexing.html#returning-a-view-versus-a-copy\n",
      "  self._update_inplace(new_data)\n",
      "C:\\Users\\chris\\anaconda3\\lib\\site-packages\\ipykernel_launcher.py:3: SettingWithCopyWarning: \n",
      "A value is trying to be set on a copy of a slice from a DataFrame.\n",
      "Try using .loc[row_indexer,col_indexer] = value instead\n",
      "\n",
      "See the caveats in the documentation: https://pandas.pydata.org/pandas-docs/stable/user_guide/indexing.html#returning-a-view-versus-a-copy\n",
      "  This is separate from the ipykernel package so we can avoid doing imports until\n",
      "C:\\Users\\chris\\anaconda3\\lib\\site-packages\\pandas\\core\\frame.py:3997: SettingWithCopyWarning: \n",
      "A value is trying to be set on a copy of a slice from a DataFrame\n",
      "\n",
      "See the caveats in the documentation: https://pandas.pydata.org/pandas-docs/stable/user_guide/indexing.html#returning-a-view-versus-a-copy\n",
      "  errors=errors,\n"
     ]
    }
   ],
   "source": [
    "#Filled missing lang fields with \"EN\" and counted number of languages for each app\n",
    "df['Lang'].fillna('EN', inplace=True)\n",
    "df['Lang_count'] = df.Lang.str.count(\",\") + 1\n",
    "df.drop(['Lang'],axis=1, inplace=True)"
   ]
  },
  {
   "cell_type": "code",
   "execution_count": 511,
   "metadata": {},
   "outputs": [
    {
     "name": "stderr",
     "output_type": "stream",
     "text": [
      "C:\\Users\\chris\\anaconda3\\lib\\site-packages\\ipykernel_launcher.py:1: SettingWithCopyWarning: \n",
      "A value is trying to be set on a copy of a slice from a DataFrame.\n",
      "Try using .loc[row_indexer,col_indexer] = value instead\n",
      "\n",
      "See the caveats in the documentation: https://pandas.pydata.org/pandas-docs/stable/user_guide/indexing.html#returning-a-view-versus-a-copy\n",
      "  \"\"\"Entry point for launching an IPython kernel.\n"
     ]
    }
   ],
   "source": [
    "#Turn 'InAppPurc' column into a bool condition\n",
    "#True if In app purchse is available in the app\n",
    "df['InAppPurc'] = df['InAppPurc'].notnull()"
   ]
  },
  {
   "cell_type": "code",
   "execution_count": 512,
   "metadata": {
    "scrolled": true
   },
   "outputs": [
    {
     "name": "stdout",
     "output_type": "stream",
     "text": [
      "['Action', 'Adventure', 'Animals & Nature', 'Art', 'Board', 'Books', 'Business', 'Card', 'Casino', 'Casual', 'Comics & Cartoons', 'Education', 'Emoji & Expressions', 'Entertainment', 'Family', 'Finance', 'Food & Drink', 'Games', 'Gaming', 'Health & Fitness', 'Kids & Family', 'Lifestyle', 'Magazines & Newspapers', 'Medical', 'Music', 'Navigation', 'News', 'People', 'Photo & Video', 'Places & Objects', 'Productivity', 'Puzzle', 'Racing', 'Reference', 'Role Playing', 'Shopping', 'Simulation', 'Social Networking', 'Sports', 'Sports & Activities', 'Stickers', 'Strategy', 'Travel', 'Trivia', 'Utilities', 'Weather', 'Word'] <class 'list'>\n"
     ]
    },
    {
     "name": "stderr",
     "output_type": "stream",
     "text": [
      "C:\\Users\\chris\\anaconda3\\lib\\site-packages\\ipykernel_launcher.py:10: SettingWithCopyWarning: \n",
      "A value is trying to be set on a copy of a slice from a DataFrame.\n",
      "Try using .loc[row_indexer,col_indexer] = value instead\n",
      "\n",
      "See the caveats in the documentation: https://pandas.pydata.org/pandas-docs/stable/user_guide/indexing.html#returning-a-view-versus-a-copy\n",
      "  # Remove the CWD from sys.path while we load stuff.\n"
     ]
    }
   ],
   "source": [
    "#Obtain a unique list of genre categories\n",
    "genre_list = df['Genres'].tolist()\n",
    "\n",
    "def convert(g_list, seperator=','):\n",
    "    return seperator.join(g_list)\n",
    "genre_list_convert = convert(genre_list)\n",
    "genre_list_clean = genre_list_convert.split(',')\n",
    "\n",
    "#Count the number of genres for each app\n",
    "df['gen_count'] = df.Genres.str.count(\",\") +1\n",
    "genre_list = df['Genres'].tolist()\n",
    "\n",
    "genre_cleaner = sorted(set([g.strip() for g in genre_list_clean]))\n",
    "\n",
    "print(genre_cleaner, type(genre_cleaner))\n"
   ]
  },
  {
   "cell_type": "code",
   "execution_count": 513,
   "metadata": {},
   "outputs": [
    {
     "name": "stdout",
     "output_type": "stream",
     "text": [
      "               ID  Rating  Rating Count  Price  InAppPurc Age Rating  \\\n",
      "0       284921427     4.0        3553.0   2.99      False         4+   \n",
      "1       284926400     3.5         284.0   1.99      False         4+   \n",
      "2       284946595     3.0        8376.0   0.00      False         4+   \n",
      "3       285755462     3.5      190394.0   0.00      False         4+   \n",
      "4       285831220     3.5          28.0   2.99      False         4+   \n",
      "...           ...     ...           ...    ...        ...        ...   \n",
      "17002  1474626442     NaN           NaN   0.00      False         4+   \n",
      "17003  1474919257     NaN           NaN   0.00      False         4+   \n",
      "17004  1474962324     NaN           NaN   0.00      False         4+   \n",
      "17005  1474963671     NaN           NaN   0.00       True         4+   \n",
      "17006  1475076711     NaN           NaN   0.00      False         4+   \n",
      "\n",
      "              Size                                  Genres Org Rel Date  \\\n",
      "0       15853568.0                 Games, Strategy, Puzzle   11/07/2008   \n",
      "1       12328960.0                  Games, Strategy, Board   11/07/2008   \n",
      "2         674816.0                  Games, Board, Strategy   11/07/2008   \n",
      "3       21552128.0                 Games, Strategy, Puzzle   23/07/2008   \n",
      "4       34689024.0       Games, Strategy, Board, Education   18/07/2008   \n",
      "...            ...                                     ...          ...   \n",
      "17002   64795648.0  Games, Entertainment, Casual, Strategy   30/07/2019   \n",
      "17003  110341120.0                 Games, Family, Strategy    1/08/2019   \n",
      "17004   23207936.0                         Games, Strategy    3/08/2019   \n",
      "17005  196750336.0                 Games, Strategy, Action    1/08/2019   \n",
      "17006   22952960.0                 Games, Strategy, Puzzle    2/08/2019   \n",
      "\n",
      "      Cur Rel Date  Lang_count  gen_count  \n",
      "0       30/05/2017          17          3  \n",
      "1       17/05/2018           1          3  \n",
      "2        5/09/2017           1          3  \n",
      "3       30/05/2017          17          3  \n",
      "4       22/07/2018          15          4  \n",
      "...            ...         ...        ...  \n",
      "17002   30/07/2019           1          4  \n",
      "17003    1/08/2019           1          3  \n",
      "17004    3/08/2019           1          2  \n",
      "17005    1/08/2019           1          3  \n",
      "17006    2/08/2019           2          3  \n",
      "\n",
      "[16847 rows x 12 columns]\n",
      "<class 'pandas.core.frame.DataFrame'>\n",
      "Int64Index: 16847 entries, 0 to 17006\n",
      "Data columns (total 12 columns):\n",
      " #   Column        Non-Null Count  Dtype  \n",
      "---  ------        --------------  -----  \n",
      " 0   ID            16847 non-null  int64  \n",
      " 1   Rating        7488 non-null   float64\n",
      " 2   Rating Count  7488 non-null   float64\n",
      " 3   Price         16823 non-null  float64\n",
      " 4   InAppPurc     16847 non-null  bool   \n",
      " 5   Age Rating    16847 non-null  object \n",
      " 6   Size          16846 non-null  float64\n",
      " 7   Genres        16847 non-null  object \n",
      " 8   Org Rel Date  16847 non-null  object \n",
      " 9   Cur Rel Date  16847 non-null  object \n",
      " 10  Lang_count    16847 non-null  int64  \n",
      " 11  gen_count     16847 non-null  int64  \n",
      "dtypes: bool(1), float64(4), int64(3), object(4)\n",
      "memory usage: 1.6+ MB\n",
      "None\n",
      "                count          mean           std          min          25%  \\\n",
      "ID            16847.0  1.059651e+09  2.999351e+08  284921427.0  899654330.0   \n",
      "Rating         7488.0  4.062099e+00  7.505062e-01          1.0          3.5   \n",
      "Rating Count   7488.0  3.306245e+03  4.251578e+04          5.0         12.0   \n",
      "Price         16823.0  8.153486e-01  7.871258e+00          0.0          0.0   \n",
      "Size          16846.0  1.158181e+08  2.043214e+08      51328.0   22950144.0   \n",
      "Lang_count    16847.0  3.254229e+00  6.165888e+00          1.0          1.0   \n",
      "gen_count     16847.0  3.558616e+00  5.714874e-01          2.0          3.0   \n",
      "\n",
      "                       50%           75%           max  \n",
      "ID            1.112429e+09  1.286958e+09  1.475077e+09  \n",
      "Rating        4.500000e+00  4.500000e+00  5.000000e+00  \n",
      "Rating Count  4.600000e+01  3.072500e+02  3.032734e+06  \n",
      "Price         0.000000e+00  0.000000e+00  1.799900e+02  \n",
      "Size          5.674138e+07  1.329649e+08  4.005591e+09  \n",
      "Lang_count    1.000000e+00  2.000000e+00  1.110000e+02  \n",
      "gen_count     4.000000e+00  4.000000e+00  6.000000e+00  \n"
     ]
    }
   ],
   "source": [
    "#Inspect df\n",
    "print(df)\n",
    "print(df.info())\n",
    "print(df.describe().T)"
   ]
  },
  {
   "cell_type": "code",
   "execution_count": 514,
   "metadata": {},
   "outputs": [],
   "source": [
    "#what should I do with the apps with no rating and price? \n",
    "#For now I will leave it in as NaN for both Rating and Rating Count"
   ]
  },
  {
   "cell_type": "code",
   "execution_count": 515,
   "metadata": {},
   "outputs": [
    {
     "name": "stderr",
     "output_type": "stream",
     "text": [
      "C:\\Users\\chris\\anaconda3\\lib\\site-packages\\pandas\\core\\generic.py:6245: SettingWithCopyWarning: \n",
      "A value is trying to be set on a copy of a slice from a DataFrame\n",
      "\n",
      "See the caveats in the documentation: https://pandas.pydata.org/pandas-docs/stable/user_guide/indexing.html#returning-a-view-versus-a-copy\n",
      "  self._update_inplace(new_data)\n"
     ]
    }
   ],
   "source": [
    "#Filled one missing size fields with mean\n",
    "df['Size'].fillna((df['Size'].mean()), inplace=True)"
   ]
  },
  {
   "cell_type": "code",
   "execution_count": 516,
   "metadata": {},
   "outputs": [],
   "source": [
    "#Fill 24 missing Price fields with mean\n",
    "df['Price'].fillna((df['Price'].mean()), inplace=True)"
   ]
  },
  {
   "cell_type": "code",
   "execution_count": 517,
   "metadata": {},
   "outputs": [
    {
     "name": "stderr",
     "output_type": "stream",
     "text": [
      "C:\\Users\\chris\\anaconda3\\lib\\site-packages\\ipykernel_launcher.py:2: SettingWithCopyWarning: \n",
      "A value is trying to be set on a copy of a slice from a DataFrame.\n",
      "Try using .loc[row_indexer,col_indexer] = value instead\n",
      "\n",
      "See the caveats in the documentation: https://pandas.pydata.org/pandas-docs/stable/user_guide/indexing.html#returning-a-view-versus-a-copy\n",
      "  \n",
      "C:\\Users\\chris\\anaconda3\\lib\\site-packages\\ipykernel_launcher.py:3: SettingWithCopyWarning: \n",
      "A value is trying to be set on a copy of a slice from a DataFrame.\n",
      "Try using .loc[row_indexer,col_indexer] = value instead\n",
      "\n",
      "See the caveats in the documentation: https://pandas.pydata.org/pandas-docs/stable/user_guide/indexing.html#returning-a-view-versus-a-copy\n",
      "  This is separate from the ipykernel package so we can avoid doing imports until\n"
     ]
    }
   ],
   "source": [
    "#Strip off '+' from Age Rating and convert to int\n",
    "df['Age Rating'] = df['Age Rating'].map(lambda x: x.rstrip('+'))\n",
    "df['Age Rating'] = df['Age Rating'].astype(str).astype(int)"
   ]
  },
  {
   "cell_type": "code",
   "execution_count": 518,
   "metadata": {},
   "outputs": [
    {
     "name": "stdout",
     "output_type": "stream",
     "text": [
      "<class 'pandas.core.frame.DataFrame'>\n",
      "Int64Index: 16847 entries, 0 to 17006\n",
      "Data columns (total 12 columns):\n",
      " #   Column        Non-Null Count  Dtype         \n",
      "---  ------        --------------  -----         \n",
      " 0   ID            16847 non-null  int64         \n",
      " 1   Rating        7488 non-null   float64       \n",
      " 2   Rating Count  7488 non-null   float64       \n",
      " 3   Price         16847 non-null  float64       \n",
      " 4   InAppPurc     16847 non-null  bool          \n",
      " 5   Age Rating    16847 non-null  int32         \n",
      " 6   Size          16847 non-null  float64       \n",
      " 7   Genres        16847 non-null  object        \n",
      " 8   Org Rel Date  16847 non-null  datetime64[ns]\n",
      " 9   Cur Rel Date  16847 non-null  datetime64[ns]\n",
      " 10  Lang_count    16847 non-null  int64         \n",
      " 11  gen_count     16847 non-null  int64         \n",
      "dtypes: bool(1), datetime64[ns](2), float64(4), int32(1), int64(3), object(1)\n",
      "memory usage: 1.5+ MB\n"
     ]
    },
    {
     "name": "stderr",
     "output_type": "stream",
     "text": [
      "C:\\Users\\chris\\anaconda3\\lib\\site-packages\\pandas\\core\\frame.py:2963: SettingWithCopyWarning: \n",
      "A value is trying to be set on a copy of a slice from a DataFrame.\n",
      "Try using .loc[row_indexer,col_indexer] = value instead\n",
      "\n",
      "See the caveats in the documentation: https://pandas.pydata.org/pandas-docs/stable/user_guide/indexing.html#returning-a-view-versus-a-copy\n",
      "  self[k1] = value[k2]\n"
     ]
    }
   ],
   "source": [
    "#Convert Org Rel Date and Cur Rel Date to datetime format\n",
    "\n",
    "df[['Org Rel Date', 'Cur Rel Date']] = df[['Org Rel Date', 'Cur Rel Date']].apply(pd.to_datetime)\n",
    "df.info()"
   ]
  },
  {
   "cell_type": "code",
   "execution_count": 519,
   "metadata": {},
   "outputs": [],
   "source": [
    "# #Identify the genres of each app and place in df_cat \n",
    "#This can be done with a for loop to construct these columns\n",
    "df_cat = pd.DataFrame()\n",
    "df_cat['Action'] = df['Genres'].str.contains('Action')\n",
    "df_cat['Adventure'] = df['Genres']. str.contains('Adventure')\n",
    "df_cat['Animals'] = df['Genres'].str.contains('Animals')\n",
    "df_cat['Art'] = df['Genres'].str.contains('Art')\n",
    "df_cat['Board'] = df['Genres'].str.contains('Board')\n",
    "df_cat['Books'] = df['Genres'].str.contains('Books')\n",
    "df_cat['Business'] = df['Genres'].str.contains('Business')\n",
    "df_cat['Card'] = df['Genres'].str.contains('Card')\n",
    "df_cat['Casino'] = df['Genres'].str.contains('Casino')\n",
    "df_cat['Casual'] = df['Genres'].str.contains('Casual')\n",
    "df_cat['Comics & Cartons'] = df['Genres'].str.contains('Comics & Cartons')\n",
    "df_cat['Education'] = df['Genres']. str.contains('Education')\n",
    "df_cat['Emoji & Expressions'] = df['Genres'].str.contains('Emoji & Expressions')\n",
    "df_cat['Entertainment'] = df['Genres'].str.contains('Entertainment')\n",
    "df_cat['Family'] = df['Genres'].str.contains('Family')\n",
    "df_cat['Finance'] = df['Genres'].str.contains('Finance')\n",
    "df_cat['Food & Drink'] = df['Genres'].str.contains('Food & Drink')\n",
    "df_cat['Games'] = df['Genres'].str.contains('Games')\n",
    "df_cat['Gaming'] = df['Genres'].str.contains('Gaming')\n",
    "df_cat['Health & Fitness'] = df['Genres'].str.contains('Health & Fitness')\n",
    "df_cat['Kids & Family'] = df['Genres'].str.contains('Kids & Family')\n",
    "df_cat['Lifestyle'] = df['Genres']. str.contains('Lifestyle')\n",
    "df_cat['Magazines & Newspapers'] = df['Genres'].str.contains('Magazines & Newspapers')\n",
    "df_cat['Medical'] = df['Genres'].str.contains('Medical')\n",
    "df_cat['Music'] = df['Genres'].str.contains('Music')\n",
    "df_cat['Navigation'] = df['Genres'].str.contains('Navigation')\n",
    "df_cat['News'] = df['Genres'].str.contains('News')\n",
    "df_cat['People'] = df['Genres'].str.contains('People')\n",
    "df_cat['Photo & Video'] = df['Genres'].str.contains('Photo & Video')\n",
    "df_cat['Places & Objects'] = df['Genres'].str.contains('Places & Objects')\n",
    "df_cat['Productivity'] = df['Genres'].str.contains('Productivity')\n",
    "df_cat['Puzzle'] = df['Genres']. str.contains('Puzzle')\n",
    "df_cat['Racing'] = df['Genres'].str.contains('Racing')\n",
    "df_cat['Reference'] = df['Genres'].str.contains('Reference')\n",
    "df_cat['Role Playing'] = df['Genres'].str.contains('Role Playing')\n",
    "df_cat['Shopping'] = df['Genres'].str.contains('Shopping')\n",
    "df_cat['Simulation'] = df['Genres'].str.contains('Simulation')\n",
    "df_cat['Social Networking'] = df['Genres'].str.contains('Social Networking')\n",
    "df_cat['Sports'] = df['Genres'].str.contains('Sports')\n",
    "df_cat['Sports & Activities'] = df['Genres'].str.contains('Sports & Activities')\n",
    "df_cat['Stickers'] = df['Genres'].str.contains('Stickers')\n",
    "df_cat['Strategy'] = df['Genres'].str.contains('Strategy')\n",
    "df_cat['Travel'] = df['Genres'].str.contains('Travel')\n",
    "df_cat['Trivia'] = df['Genres']. str.contains('Trivia')\n",
    "df_cat['Utilities'] = df['Genres'].str.contains('Utilities')\n",
    "df_cat['Weather'] = df['Genres'].str.contains('Weather')\n",
    "df_cat['Word'] = df['Genres'].str.contains('Word')"
   ]
  },
  {
   "cell_type": "code",
   "execution_count": 520,
   "metadata": {},
   "outputs": [
    {
     "name": "stdout",
     "output_type": "stream",
     "text": [
      "               ID  Action  Adventure  Animals    Art  Board  Books  Business  \\\n",
      "0       284921427   False      False    False  False  False  False     False   \n",
      "1       284926400   False      False    False  False   True  False     False   \n",
      "2       284946595   False      False    False  False   True  False     False   \n",
      "3       285755462   False      False    False  False  False  False     False   \n",
      "4       285831220   False      False    False  False   True  False     False   \n",
      "...           ...     ...        ...      ...    ...    ...    ...       ...   \n",
      "17002  1474626442   False      False    False  False  False  False     False   \n",
      "17003  1474919257   False      False    False  False  False  False     False   \n",
      "17004  1474962324   False      False    False  False  False  False     False   \n",
      "17005  1474963671    True      False    False  False  False  False     False   \n",
      "17006  1475076711   False      False    False  False  False  False     False   \n",
      "\n",
      "        Card  Casino  ...  Sports  Sports & Activities  Stickers  Strategy  \\\n",
      "0      False   False  ...   False                False     False      True   \n",
      "1      False   False  ...   False                False     False      True   \n",
      "2      False   False  ...   False                False     False      True   \n",
      "3      False   False  ...   False                False     False      True   \n",
      "4      False   False  ...   False                False     False      True   \n",
      "...      ...     ...  ...     ...                  ...       ...       ...   \n",
      "17002  False   False  ...   False                False     False      True   \n",
      "17003  False   False  ...   False                False     False      True   \n",
      "17004  False   False  ...   False                False     False      True   \n",
      "17005  False   False  ...   False                False     False      True   \n",
      "17006  False   False  ...   False                False     False      True   \n",
      "\n",
      "       Travel  Trivia  Utilities  Weather   Word  Genre_count  \n",
      "0       False   False      False    False  False            3  \n",
      "1       False   False      False    False  False            3  \n",
      "2       False   False      False    False  False            3  \n",
      "3       False   False      False    False  False            3  \n",
      "4       False   False      False    False  False            4  \n",
      "...       ...     ...        ...      ...    ...          ...  \n",
      "17002   False   False      False    False  False            4  \n",
      "17003   False   False      False    False  False            3  \n",
      "17004   False   False      False    False  False            2  \n",
      "17005   False   False      False    False  False            3  \n",
      "17006   False   False      False    False  False            3  \n",
      "\n",
      "[16847 rows x 49 columns]\n",
      "<class 'pandas.core.frame.DataFrame'>\n",
      "Int64Index: 16847 entries, 0 to 17006\n",
      "Data columns (total 49 columns):\n",
      " #   Column                  Non-Null Count  Dtype\n",
      "---  ------                  --------------  -----\n",
      " 0   ID                      16847 non-null  int64\n",
      " 1   Action                  16847 non-null  bool \n",
      " 2   Adventure               16847 non-null  bool \n",
      " 3   Animals                 16847 non-null  bool \n",
      " 4   Art                     16847 non-null  bool \n",
      " 5   Board                   16847 non-null  bool \n",
      " 6   Books                   16847 non-null  bool \n",
      " 7   Business                16847 non-null  bool \n",
      " 8   Card                    16847 non-null  bool \n",
      " 9   Casino                  16847 non-null  bool \n",
      " 10  Casual                  16847 non-null  bool \n",
      " 11  Comics & Cartons        16847 non-null  bool \n",
      " 12  Education               16847 non-null  bool \n",
      " 13  Emoji & Expressions     16847 non-null  bool \n",
      " 14  Entertainment           16847 non-null  bool \n",
      " 15  Family                  16847 non-null  bool \n",
      " 16  Finance                 16847 non-null  bool \n",
      " 17  Food & Drink            16847 non-null  bool \n",
      " 18  Games                   16847 non-null  bool \n",
      " 19  Gaming                  16847 non-null  bool \n",
      " 20  Health & Fitness        16847 non-null  bool \n",
      " 21  Kids & Family           16847 non-null  bool \n",
      " 22  Lifestyle               16847 non-null  bool \n",
      " 23  Magazines & Newspapers  16847 non-null  bool \n",
      " 24  Medical                 16847 non-null  bool \n",
      " 25  Music                   16847 non-null  bool \n",
      " 26  Navigation              16847 non-null  bool \n",
      " 27  News                    16847 non-null  bool \n",
      " 28  People                  16847 non-null  bool \n",
      " 29  Photo & Video           16847 non-null  bool \n",
      " 30  Places & Objects        16847 non-null  bool \n",
      " 31  Productivity            16847 non-null  bool \n",
      " 32  Puzzle                  16847 non-null  bool \n",
      " 33  Racing                  16847 non-null  bool \n",
      " 34  Reference               16847 non-null  bool \n",
      " 35  Role Playing            16847 non-null  bool \n",
      " 36  Shopping                16847 non-null  bool \n",
      " 37  Simulation              16847 non-null  bool \n",
      " 38  Social Networking       16847 non-null  bool \n",
      " 39  Sports                  16847 non-null  bool \n",
      " 40  Sports & Activities     16847 non-null  bool \n",
      " 41  Stickers                16847 non-null  bool \n",
      " 42  Strategy                16847 non-null  bool \n",
      " 43  Travel                  16847 non-null  bool \n",
      " 44  Trivia                  16847 non-null  bool \n",
      " 45  Utilities               16847 non-null  bool \n",
      " 46  Weather                 16847 non-null  bool \n",
      " 47  Word                    16847 non-null  bool \n",
      " 48  Genre_count             16847 non-null  int64\n",
      "dtypes: bool(47), int64(2)\n",
      "memory usage: 1.8 MB\n",
      "None\n"
     ]
    },
    {
     "name": "stderr",
     "output_type": "stream",
     "text": [
      "C:\\Users\\chris\\anaconda3\\lib\\site-packages\\pandas\\core\\frame.py:3997: SettingWithCopyWarning: \n",
      "A value is trying to be set on a copy of a slice from a DataFrame\n",
      "\n",
      "See the caveats in the documentation: https://pandas.pydata.org/pandas-docs/stable/user_guide/indexing.html#returning-a-view-versus-a-copy\n",
      "  errors=errors,\n"
     ]
    }
   ],
   "source": [
    "#add in ID column to the df_cat \n",
    "df_cat = df_cat.join(df['ID'])\n",
    "first_col = df_cat.pop('ID')\n",
    "df_cat.insert(0, 'ID', first_col)\n",
    "#create a genre count for each ID\n",
    "df_cat['Genre_count'] = df_cat[df_cat ==True].count(axis=1)\n",
    "#Drop Genre column from df\n",
    "df.drop(['Genres'],axis=1, inplace=True)\n",
    "print(df_cat)\n",
    "print(df_cat.info())"
   ]
  },
  {
   "cell_type": "code",
   "execution_count": 521,
   "metadata": {},
   "outputs": [],
   "source": [
    "#what can I do with this information with genres"
   ]
  },
  {
   "cell_type": "code",
   "execution_count": 522,
   "metadata": {},
   "outputs": [
    {
     "name": "stdout",
     "output_type": "stream",
     "text": [
      "          ID  Rating  Rating Count  Price  InAppPurc  Age Rating        Size  \\\n",
      "0  284921427     4.0        3553.0   2.99      False           4  15853568.0   \n",
      "1  284926400     3.5         284.0   1.99      False           4  12328960.0   \n",
      "2  284946595     3.0        8376.0   0.00      False           4    674816.0   \n",
      "3  285755462     3.5      190394.0   0.00      False           4  21552128.0   \n",
      "4  285831220     3.5          28.0   2.99      False           4  34689024.0   \n",
      "\n",
      "  Org Rel Date Cur Rel Date  Lang_count  gen_count  \n",
      "0   2008-11-07   2017-05-30          17          3  \n",
      "1   2008-11-07   2018-05-17           1          3  \n",
      "2   2008-11-07   2017-05-09           1          3  \n",
      "3   2008-07-23   2017-05-30          17          3  \n",
      "4   2008-07-18   2018-07-22          15          4  \n",
      "<class 'pandas.core.frame.DataFrame'>\n",
      "Int64Index: 16847 entries, 0 to 17006\n",
      "Data columns (total 11 columns):\n",
      " #   Column        Non-Null Count  Dtype         \n",
      "---  ------        --------------  -----         \n",
      " 0   ID            16847 non-null  int64         \n",
      " 1   Rating        7488 non-null   float64       \n",
      " 2   Rating Count  7488 non-null   float64       \n",
      " 3   Price         16847 non-null  float64       \n",
      " 4   InAppPurc     16847 non-null  bool          \n",
      " 5   Age Rating    16847 non-null  int32         \n",
      " 6   Size          16847 non-null  float64       \n",
      " 7   Org Rel Date  16847 non-null  datetime64[ns]\n",
      " 8   Cur Rel Date  16847 non-null  datetime64[ns]\n",
      " 9   Lang_count    16847 non-null  int64         \n",
      " 10  gen_count     16847 non-null  int64         \n",
      "dtypes: bool(1), datetime64[ns](2), float64(4), int32(1), int64(3)\n",
      "memory usage: 2.0 MB\n",
      "None\n"
     ]
    }
   ],
   "source": [
    "print(df.head())\n",
    "print(df.info())"
   ]
  }
 ],
 "metadata": {
  "kernelspec": {
   "display_name": "Python 3",
   "language": "python",
   "name": "python3"
  },
  "language_info": {
   "codemirror_mode": {
    "name": "ipython",
    "version": 3
   },
   "file_extension": ".py",
   "mimetype": "text/x-python",
   "name": "python",
   "nbconvert_exporter": "python",
   "pygments_lexer": "ipython3",
   "version": "3.7.6"
  }
 },
 "nbformat": 4,
 "nbformat_minor": 4
}
